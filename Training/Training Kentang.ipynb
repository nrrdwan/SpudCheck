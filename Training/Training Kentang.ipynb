{
  "cells": [
    {
      "cell_type": "code",
      "execution_count": 1,
      "metadata": {
        "id": "L2Ovi2lYwtqM"
      },
      "outputs": [],
      "source": [
        "# 1. IMPORT LIBRARY\n",
        "import tensorflow as tf\n",
        "from tensorflow.keras.preprocessing.image import ImageDataGenerator\n",
        "from sklearn.model_selection import train_test_split\n",
        "import os, shutil\n",
        "import kagglehub\n",
        "import numpy as np\n",
        "from PIL import Image\n",
        "import matplotlib.pyplot as plt"
      ]
    },
    {
      "cell_type": "code",
      "execution_count": 4,
      "metadata": {
        "colab": {
          "base_uri": "https://localhost:8080/"
        },
        "id": "C-Cuwc55wvhS",
        "outputId": "ef1e8b64-4be2-4d71-b18a-f5f81dd6a1fd"
      },
      "outputs": [
        {
          "output_type": "stream",
          "name": "stdout",
          "text": [
            "Downloading from https://www.kaggle.com/api/v1/datasets/download/nurridwan/penyakit-kentang?dataset_version_number=1...\n"
          ]
        },
        {
          "output_type": "stream",
          "name": "stderr",
          "text": [
            "100%|██████████| 534M/534M [00:06<00:00, 84.5MB/s]"
          ]
        },
        {
          "output_type": "stream",
          "name": "stdout",
          "text": [
            "Extracting files...\n"
          ]
        },
        {
          "output_type": "stream",
          "name": "stderr",
          "text": [
            "\n"
          ]
        },
        {
          "output_type": "stream",
          "name": "stdout",
          "text": [
            "Dataset path: /root/.cache/kagglehub/datasets/nurridwan/penyakit-kentang/versions/1\n"
          ]
        }
      ],
      "source": [
        "# 2. DOWNLOAD DATASET\n",
        "path = kagglehub.dataset_download(\"nurridwan/penyakit-kentang\")\n",
        "print(\"Dataset path:\", path)"
      ]
    },
    {
      "cell_type": "code",
      "execution_count": 6,
      "metadata": {
        "colab": {
          "base_uri": "https://localhost:8080/"
        },
        "id": "5f1eWzURwxsD",
        "outputId": "4b400005-716b-4b50-a51d-195607533e12"
      },
      "outputs": [
        {
          "output_type": "stream",
          "name": "stdout",
          "text": [
            "Kelas ditemukan: ['Black Scurf', 'Dry Rot', 'Not Potatoes', 'Miscellaneous', 'Pink Rot', 'Healthy Potatoes', 'Common Scab', 'Blackleg']\n",
            "Black Scurf: 58 gambar\n",
            "Dry Rot: 60 gambar\n",
            "Not Potatoes: 925 gambar\n",
            "Miscellaneous: 74 gambar\n",
            "Pink Rot: 57 gambar\n",
            "Healthy Potatoes: 80 gambar\n",
            "Common Scab: 62 gambar\n",
            "Blackleg: 60 gambar\n"
          ]
        }
      ],
      "source": [
        "import os\n",
        "\n",
        "path = \"/root/.cache/kagglehub/datasets/nurridwan/penyakit-kentang/versions/1/Penyakit kentang\"\n",
        "\n",
        "# Ambil semua folder kelas\n",
        "all_classes = [cls for cls in os.listdir(path) if os.path.isdir(os.path.join(path, cls))]\n",
        "print(\"Kelas ditemukan:\", all_classes)\n",
        "\n",
        "# Cek jumlah gambar per kelas\n",
        "for cls in all_classes:\n",
        "    cls_path = os.path.join(path, cls)\n",
        "    images = [f for f in os.listdir(cls_path) if f.lower().endswith(('.jpg', '.jpeg', '.png'))]\n",
        "    print(f\"{cls}: {len(images)} gambar\")\n"
      ]
    },
    {
      "cell_type": "code",
      "execution_count": 7,
      "metadata": {
        "id": "ytr9I_iQw0eI"
      },
      "outputs": [],
      "source": [
        "# 4. BERSIHKAN FOLDER TRAIN/VAL JIKA PERNAH ADA\n",
        "import shutil\n",
        "\n",
        "# 1. Salin dataset dari input ke working_dir\n",
        "working_dir = \"/kaggle/working/batik_dataset\"\n",
        "if os.path.exists(working_dir):\n",
        "    shutil.rmtree(working_dir)\n",
        "shutil.copytree(path, working_dir)\n",
        "\n",
        "# 2. Update path dan definisi train/val\n",
        "path = working_dir\n",
        "train_dir = os.path.join(path, 'train')\n",
        "val_dir = os.path.join(path, 'val')\n",
        "\n",
        "# 3. Buat folder train dan val\n",
        "os.makedirs(train_dir, exist_ok=True)\n",
        "os.makedirs(val_dir, exist_ok=True)"
      ]
    },
    {
      "cell_type": "code",
      "source": [
        "import PIL\n",
        "base_path = train_dir\n",
        "for cls in os.listdir(base_path):\n",
        "    cls_path = os.path.join(base_path, cls)\n",
        "    count = 0\n",
        "    for f in os.listdir(cls_path):\n",
        "        try:\n",
        "            img = PIL.Image.open(os.path.join(cls_path, f))\n",
        "            img.verify()\n",
        "            count += 1\n",
        "        except:\n",
        "            pass\n",
        "    print(f\"Kelas '{cls}': {count} gambar valid\")"
      ],
      "metadata": {
        "id": "IHs_PyIz_0K0"
      },
      "execution_count": 8,
      "outputs": []
    },
    {
      "cell_type": "code",
      "execution_count": 9,
      "metadata": {
        "id": "hAj7umt7xIHV"
      },
      "outputs": [],
      "source": [
        "# 5. FUNGSI VALIDASI GAMBAR\n",
        "def is_valid_image(img_path):\n",
        "    try:\n",
        "        with Image.open(img_path) as img:\n",
        "            img = img.convert('RGB')\n",
        "            img.load()\n",
        "        return True\n",
        "    except Exception as e:\n",
        "        print(f\"❌ Rusak: {img_path} ({e})\")\n",
        "        return False"
      ]
    },
    {
      "cell_type": "code",
      "execution_count": 10,
      "metadata": {
        "id": "FwV3StyJxK-N",
        "colab": {
          "base_uri": "https://localhost:8080/"
        },
        "outputId": "a56c63ee-b763-4283-fecc-28794da18491"
      },
      "outputs": [
        {
          "output_type": "stream",
          "name": "stderr",
          "text": [
            "/usr/local/lib/python3.11/dist-packages/PIL/Image.py:1043: UserWarning: Palette images with Transparency expressed in bytes should be converted to RGBA images\n",
            "  warnings.warn(\n"
          ]
        }
      ],
      "source": [
        "# 6. FILTER & COPY GAMBAR\n",
        "for cls in all_classes:\n",
        "    cls_path = os.path.join(path, cls)\n",
        "    if not os.path.isdir(cls_path): continue\n",
        "\n",
        "    images = [f for f in os.listdir(cls_path) if f.lower().endswith(('.jpg', '.jpeg', '.png'))]\n",
        "    images = [f for f in images if is_valid_image(os.path.join(cls_path, f))]\n",
        "\n",
        "    if len(images) < 2:\n",
        "        print(f\"⚠️ Kelas '{cls}' dilewati (hanya {len(images)} gambar valid)\")\n",
        "        continue\n",
        "\n",
        "    train_imgs, val_imgs = train_test_split(images, test_size=0.2, random_state=42)\n",
        "\n",
        "    os.makedirs(os.path.join(train_dir, cls), exist_ok=True)\n",
        "    os.makedirs(os.path.join(val_dir, cls), exist_ok=True)\n",
        "\n",
        "    for img in train_imgs:\n",
        "        shutil.copy(os.path.join(cls_path, img), os.path.join(train_dir, cls, img))\n",
        "    for img in val_imgs:\n",
        "        shutil.copy(os.path.join(cls_path, img), os.path.join(val_dir, cls, img))"
      ]
    },
    {
      "cell_type": "code",
      "execution_count": 11,
      "metadata": {
        "colab": {
          "base_uri": "https://localhost:8080/"
        },
        "id": "kS1-9lJrxTyx",
        "outputId": "b77d4d30-0c34-4b97-e533-6c24d2143047"
      },
      "outputs": [
        {
          "output_type": "stream",
          "name": "stdout",
          "text": [
            "\n",
            "Jumlah data per kelas:\n",
            "Black Scurf: train=46, val=12\n",
            "Dry Rot: train=48, val=12\n",
            "Not Potatoes: train=740, val=185\n",
            "Miscellaneous: train=59, val=15\n",
            "Pink Rot: train=45, val=12\n",
            "Healthy Potatoes: train=64, val=16\n",
            "Common Scab: train=49, val=13\n",
            "Blackleg: train=48, val=12\n"
          ]
        }
      ],
      "source": [
        "# 7. CEK HASIL PEMISAHAN\n",
        "print(\"\\nJumlah data per kelas:\")\n",
        "for cls in os.listdir(train_dir):\n",
        "    print(f\"{cls}: train={len(os.listdir(os.path.join(train_dir, cls)))}, val={len(os.listdir(os.path.join(val_dir, cls)))}\")"
      ]
    },
    {
      "cell_type": "code",
      "execution_count": 12,
      "metadata": {
        "colab": {
          "base_uri": "https://localhost:8080/"
        },
        "id": "aYi62tu7xYJi",
        "outputId": "024b740d-fff9-4374-b3f4-3c7da18414bb"
      },
      "outputs": [
        {
          "output_type": "stream",
          "name": "stdout",
          "text": [
            "Found 1099 images belonging to 8 classes.\n",
            "Found 277 images belonging to 8 classes.\n",
            "Mapping class_indices: {'Black Scurf': 0, 'Blackleg': 1, 'Common Scab': 2, 'Dry Rot': 3, 'Healthy Potatoes': 4, 'Miscellaneous': 5, 'Not Potatoes': 6, 'Pink Rot': 7}\n",
            "Jumlah sampel train: 1099\n",
            "Jumlah sampel validasi: 277\n"
          ]
        }
      ],
      "source": [
        "# 8. DATA AUGMENTATION & LOADING\n",
        "IMG_SIZE = (160, 160)\n",
        "\n",
        "train_datagen = ImageDataGenerator(\n",
        "    rescale=1./255,\n",
        "    rotation_range=20,\n",
        "    shear_range=0.2,\n",
        "    horizontal_flip=True,\n",
        "    fill_mode='nearest'\n",
        ")\n",
        "\n",
        "val_datagen = ImageDataGenerator(rescale=1./255)\n",
        "\n",
        "train_generator = train_datagen.flow_from_directory(\n",
        "    train_dir,\n",
        "    target_size=IMG_SIZE,  # ⬅️ GANTI dari (150,150)\n",
        "    batch_size=32,\n",
        "    class_mode='categorical'\n",
        ")\n",
        "\n",
        "val_generator = val_datagen.flow_from_directory(\n",
        "    val_dir,\n",
        "    target_size=IMG_SIZE,  # ⬅️ GANTI dari (150,150)\n",
        "    batch_size=32,\n",
        "    class_mode='categorical'\n",
        ")\n",
        "\n",
        "print(\"Mapping class_indices:\", train_generator.class_indices)\n",
        "print(\"Jumlah sampel train:\", train_generator.samples)\n",
        "print(\"Jumlah sampel validasi:\", val_generator.samples)\n"
      ]
    },
    {
      "cell_type": "code",
      "execution_count": 13,
      "metadata": {
        "colab": {
          "base_uri": "https://localhost:8080/",
          "height": 343
        },
        "id": "WkiCSmDNxa30",
        "outputId": "6f9d6793-8482-4eb1-ad2a-acb6c4d5fd57"
      },
      "outputs": [
        {
          "output_type": "stream",
          "name": "stdout",
          "text": [
            "Jumlah kelas: 8\n",
            "Downloading data from https://storage.googleapis.com/tensorflow/keras-applications/mobilenet_v2/mobilenet_v2_weights_tf_dim_ordering_tf_kernels_1.0_160_no_top.h5\n",
            "\u001b[1m9406464/9406464\u001b[0m \u001b[32m━━━━━━━━━━━━━━━━━━━━\u001b[0m\u001b[37m\u001b[0m \u001b[1m0s\u001b[0m 0us/step\n"
          ]
        },
        {
          "output_type": "display_data",
          "data": {
            "text/plain": [
              "\u001b[1mModel: \"sequential\"\u001b[0m\n"
            ],
            "text/html": [
              "<pre style=\"white-space:pre;overflow-x:auto;line-height:normal;font-family:Menlo,'DejaVu Sans Mono',consolas,'Courier New',monospace\"><span style=\"font-weight: bold\">Model: \"sequential\"</span>\n",
              "</pre>\n"
            ]
          },
          "metadata": {}
        },
        {
          "output_type": "display_data",
          "data": {
            "text/plain": [
              "┏━━━━━━━━━━━━━━━━━━━━━━━━━━━━━━━━━┳━━━━━━━━━━━━━━━━━━━━━━━━┳━━━━━━━━━━━━━━━┓\n",
              "┃\u001b[1m \u001b[0m\u001b[1mLayer (type)                   \u001b[0m\u001b[1m \u001b[0m┃\u001b[1m \u001b[0m\u001b[1mOutput Shape          \u001b[0m\u001b[1m \u001b[0m┃\u001b[1m \u001b[0m\u001b[1m      Param #\u001b[0m\u001b[1m \u001b[0m┃\n",
              "┡━━━━━━━━━━━━━━━━━━━━━━━━━━━━━━━━━╇━━━━━━━━━━━━━━━━━━━━━━━━╇━━━━━━━━━━━━━━━┩\n",
              "│ mobilenetv2_1.00_160            │ (\u001b[38;5;45mNone\u001b[0m, \u001b[38;5;34m5\u001b[0m, \u001b[38;5;34m5\u001b[0m, \u001b[38;5;34m1280\u001b[0m)     │     \u001b[38;5;34m2,257,984\u001b[0m │\n",
              "│ (\u001b[38;5;33mFunctional\u001b[0m)                    │                        │               │\n",
              "├─────────────────────────────────┼────────────────────────┼───────────────┤\n",
              "│ global_average_pooling2d        │ (\u001b[38;5;45mNone\u001b[0m, \u001b[38;5;34m1280\u001b[0m)           │             \u001b[38;5;34m0\u001b[0m │\n",
              "│ (\u001b[38;5;33mGlobalAveragePooling2D\u001b[0m)        │                        │               │\n",
              "├─────────────────────────────────┼────────────────────────┼───────────────┤\n",
              "│ dropout (\u001b[38;5;33mDropout\u001b[0m)               │ (\u001b[38;5;45mNone\u001b[0m, \u001b[38;5;34m1280\u001b[0m)           │             \u001b[38;5;34m0\u001b[0m │\n",
              "├─────────────────────────────────┼────────────────────────┼───────────────┤\n",
              "│ dense (\u001b[38;5;33mDense\u001b[0m)                   │ (\u001b[38;5;45mNone\u001b[0m, \u001b[38;5;34m8\u001b[0m)              │        \u001b[38;5;34m10,248\u001b[0m │\n",
              "└─────────────────────────────────┴────────────────────────┴───────────────┘\n"
            ],
            "text/html": [
              "<pre style=\"white-space:pre;overflow-x:auto;line-height:normal;font-family:Menlo,'DejaVu Sans Mono',consolas,'Courier New',monospace\">┏━━━━━━━━━━━━━━━━━━━━━━━━━━━━━━━━━┳━━━━━━━━━━━━━━━━━━━━━━━━┳━━━━━━━━━━━━━━━┓\n",
              "┃<span style=\"font-weight: bold\"> Layer (type)                    </span>┃<span style=\"font-weight: bold\"> Output Shape           </span>┃<span style=\"font-weight: bold\">       Param # </span>┃\n",
              "┡━━━━━━━━━━━━━━━━━━━━━━━━━━━━━━━━━╇━━━━━━━━━━━━━━━━━━━━━━━━╇━━━━━━━━━━━━━━━┩\n",
              "│ mobilenetv2_1.00_160            │ (<span style=\"color: #00d7ff; text-decoration-color: #00d7ff\">None</span>, <span style=\"color: #00af00; text-decoration-color: #00af00\">5</span>, <span style=\"color: #00af00; text-decoration-color: #00af00\">5</span>, <span style=\"color: #00af00; text-decoration-color: #00af00\">1280</span>)     │     <span style=\"color: #00af00; text-decoration-color: #00af00\">2,257,984</span> │\n",
              "│ (<span style=\"color: #0087ff; text-decoration-color: #0087ff\">Functional</span>)                    │                        │               │\n",
              "├─────────────────────────────────┼────────────────────────┼───────────────┤\n",
              "│ global_average_pooling2d        │ (<span style=\"color: #00d7ff; text-decoration-color: #00d7ff\">None</span>, <span style=\"color: #00af00; text-decoration-color: #00af00\">1280</span>)           │             <span style=\"color: #00af00; text-decoration-color: #00af00\">0</span> │\n",
              "│ (<span style=\"color: #0087ff; text-decoration-color: #0087ff\">GlobalAveragePooling2D</span>)        │                        │               │\n",
              "├─────────────────────────────────┼────────────────────────┼───────────────┤\n",
              "│ dropout (<span style=\"color: #0087ff; text-decoration-color: #0087ff\">Dropout</span>)               │ (<span style=\"color: #00d7ff; text-decoration-color: #00d7ff\">None</span>, <span style=\"color: #00af00; text-decoration-color: #00af00\">1280</span>)           │             <span style=\"color: #00af00; text-decoration-color: #00af00\">0</span> │\n",
              "├─────────────────────────────────┼────────────────────────┼───────────────┤\n",
              "│ dense (<span style=\"color: #0087ff; text-decoration-color: #0087ff\">Dense</span>)                   │ (<span style=\"color: #00d7ff; text-decoration-color: #00d7ff\">None</span>, <span style=\"color: #00af00; text-decoration-color: #00af00\">8</span>)              │        <span style=\"color: #00af00; text-decoration-color: #00af00\">10,248</span> │\n",
              "└─────────────────────────────────┴────────────────────────┴───────────────┘\n",
              "</pre>\n"
            ]
          },
          "metadata": {}
        },
        {
          "output_type": "display_data",
          "data": {
            "text/plain": [
              "\u001b[1m Total params: \u001b[0m\u001b[38;5;34m2,268,232\u001b[0m (8.65 MB)\n"
            ],
            "text/html": [
              "<pre style=\"white-space:pre;overflow-x:auto;line-height:normal;font-family:Menlo,'DejaVu Sans Mono',consolas,'Courier New',monospace\"><span style=\"font-weight: bold\"> Total params: </span><span style=\"color: #00af00; text-decoration-color: #00af00\">2,268,232</span> (8.65 MB)\n",
              "</pre>\n"
            ]
          },
          "metadata": {}
        },
        {
          "output_type": "display_data",
          "data": {
            "text/plain": [
              "\u001b[1m Trainable params: \u001b[0m\u001b[38;5;34m10,248\u001b[0m (40.03 KB)\n"
            ],
            "text/html": [
              "<pre style=\"white-space:pre;overflow-x:auto;line-height:normal;font-family:Menlo,'DejaVu Sans Mono',consolas,'Courier New',monospace\"><span style=\"font-weight: bold\"> Trainable params: </span><span style=\"color: #00af00; text-decoration-color: #00af00\">10,248</span> (40.03 KB)\n",
              "</pre>\n"
            ]
          },
          "metadata": {}
        },
        {
          "output_type": "display_data",
          "data": {
            "text/plain": [
              "\u001b[1m Non-trainable params: \u001b[0m\u001b[38;5;34m2,257,984\u001b[0m (8.61 MB)\n"
            ],
            "text/html": [
              "<pre style=\"white-space:pre;overflow-x:auto;line-height:normal;font-family:Menlo,'DejaVu Sans Mono',consolas,'Courier New',monospace\"><span style=\"font-weight: bold\"> Non-trainable params: </span><span style=\"color: #00af00; text-decoration-color: #00af00\">2,257,984</span> (8.61 MB)\n",
              "</pre>\n"
            ]
          },
          "metadata": {}
        }
      ],
      "source": [
        "# 9. MODEL TRANSFER LEARNING (MobileNetV2)\n",
        "num_classes = len(train_generator.class_indices)\n",
        "print(\"Jumlah kelas:\", num_classes)\n",
        "\n",
        "base_model = tf.keras.applications.MobileNetV2(input_shape=(160, 160, 3),\n",
        "                                               include_top=False,\n",
        "                                               weights='imagenet')\n",
        "base_model.trainable = False  # freeze base model\n",
        "\n",
        "model = tf.keras.Sequential([\n",
        "    base_model,\n",
        "    tf.keras.layers.GlobalAveragePooling2D(),\n",
        "    tf.keras.layers.Dropout(0.3),\n",
        "    tf.keras.layers.Dense(num_classes, activation='softmax')\n",
        "])\n",
        "\n",
        "model.compile(optimizer='adam',\n",
        "              loss='categorical_crossentropy',\n",
        "              metrics=['accuracy'])\n",
        "\n",
        "model.summary()"
      ]
    },
    {
      "cell_type": "code",
      "execution_count": 20,
      "metadata": {
        "colab": {
          "base_uri": "https://localhost:8080/"
        },
        "id": "3GOY1dWWxdKO",
        "outputId": "95e11949-03c9-42b2-e0b6-f91277525053"
      },
      "outputs": [
        {
          "output_type": "stream",
          "name": "stdout",
          "text": [
            "Epoch 1/30\n",
            "\u001b[1m35/35\u001b[0m \u001b[32m━━━━━━━━━━━━━━━━━━━━\u001b[0m\u001b[37m\u001b[0m \u001b[1m30s\u001b[0m 868ms/step - accuracy: 0.9891 - loss: 0.0361 - val_accuracy: 0.8989 - val_loss: 0.4417\n",
            "Epoch 2/30\n",
            "\u001b[1m35/35\u001b[0m \u001b[32m━━━━━━━━━━━━━━━━━━━━\u001b[0m\u001b[37m\u001b[0m \u001b[1m29s\u001b[0m 847ms/step - accuracy: 0.9914 - loss: 0.0305 - val_accuracy: 0.8989 - val_loss: 0.4265\n",
            "Epoch 3/30\n",
            "\u001b[1m35/35\u001b[0m \u001b[32m━━━━━━━━━━━━━━━━━━━━\u001b[0m\u001b[37m\u001b[0m \u001b[1m29s\u001b[0m 825ms/step - accuracy: 0.9858 - loss: 0.0319 - val_accuracy: 0.8845 - val_loss: 0.4431\n",
            "Epoch 4/30\n",
            "\u001b[1m35/35\u001b[0m \u001b[32m━━━━━━━━━━━━━━━━━━━━\u001b[0m\u001b[37m\u001b[0m \u001b[1m30s\u001b[0m 875ms/step - accuracy: 0.9905 - loss: 0.0312 - val_accuracy: 0.8917 - val_loss: 0.4417\n",
            "Epoch 5/30\n",
            "\u001b[1m35/35\u001b[0m \u001b[32m━━━━━━━━━━━━━━━━━━━━\u001b[0m\u001b[37m\u001b[0m \u001b[1m29s\u001b[0m 835ms/step - accuracy: 0.9900 - loss: 0.0285 - val_accuracy: 0.8917 - val_loss: 0.4384\n",
            "Epoch 6/30\n",
            "\u001b[1m35/35\u001b[0m \u001b[32m━━━━━━━━━━━━━━━━━━━━\u001b[0m\u001b[37m\u001b[0m \u001b[1m30s\u001b[0m 884ms/step - accuracy: 0.9949 - loss: 0.0263 - val_accuracy: 0.8845 - val_loss: 0.4259\n",
            "Epoch 7/30\n",
            "\u001b[1m35/35\u001b[0m \u001b[32m━━━━━━━━━━━━━━━━━━━━\u001b[0m\u001b[37m\u001b[0m \u001b[1m29s\u001b[0m 842ms/step - accuracy: 0.9924 - loss: 0.0274 - val_accuracy: 0.8917 - val_loss: 0.4321\n",
            "Epoch 8/30\n",
            "\u001b[1m35/35\u001b[0m \u001b[32m━━━━━━━━━━━━━━━━━━━━\u001b[0m\u001b[37m\u001b[0m \u001b[1m30s\u001b[0m 863ms/step - accuracy: 0.9964 - loss: 0.0265 - val_accuracy: 0.8953 - val_loss: 0.4094\n",
            "Epoch 9/30\n",
            "\u001b[1m35/35\u001b[0m \u001b[32m━━━━━━━━━━━━━━━━━━━━\u001b[0m\u001b[37m\u001b[0m \u001b[1m29s\u001b[0m 844ms/step - accuracy: 0.9940 - loss: 0.0221 - val_accuracy: 0.8917 - val_loss: 0.4314\n",
            "Epoch 10/30\n",
            "\u001b[1m35/35\u001b[0m \u001b[32m━━━━━━━━━━━━━━━━━━━━\u001b[0m\u001b[37m\u001b[0m \u001b[1m29s\u001b[0m 841ms/step - accuracy: 0.9979 - loss: 0.0259 - val_accuracy: 0.8917 - val_loss: 0.4231\n",
            "Epoch 11/30\n",
            "\u001b[1m35/35\u001b[0m \u001b[32m━━━━━━━━━━━━━━━━━━━━\u001b[0m\u001b[37m\u001b[0m \u001b[1m30s\u001b[0m 868ms/step - accuracy: 0.9953 - loss: 0.0235 - val_accuracy: 0.8953 - val_loss: 0.4565\n",
            "Epoch 12/30\n",
            "\u001b[1m35/35\u001b[0m \u001b[32m━━━━━━━━━━━━━━━━━━━━\u001b[0m\u001b[37m\u001b[0m \u001b[1m41s\u001b[0m 854ms/step - accuracy: 0.9916 - loss: 0.0199 - val_accuracy: 0.8917 - val_loss: 0.4407\n",
            "Epoch 13/30\n",
            "\u001b[1m35/35\u001b[0m \u001b[32m━━━━━━━━━━━━━━━━━━━━\u001b[0m\u001b[37m\u001b[0m \u001b[1m30s\u001b[0m 869ms/step - accuracy: 0.9941 - loss: 0.0243 - val_accuracy: 0.8917 - val_loss: 0.4267\n",
            "Epoch 14/30\n",
            "\u001b[1m35/35\u001b[0m \u001b[32m━━━━━━━━━━━━━━━━━━━━\u001b[0m\u001b[37m\u001b[0m \u001b[1m30s\u001b[0m 847ms/step - accuracy: 0.9982 - loss: 0.0189 - val_accuracy: 0.8881 - val_loss: 0.4742\n",
            "Epoch 15/30\n",
            "\u001b[1m35/35\u001b[0m \u001b[32m━━━━━━━━━━━━━━━━━━━━\u001b[0m\u001b[37m\u001b[0m \u001b[1m30s\u001b[0m 867ms/step - accuracy: 0.9905 - loss: 0.0341 - val_accuracy: 0.8881 - val_loss: 0.4369\n",
            "Epoch 16/30\n",
            "\u001b[1m35/35\u001b[0m \u001b[32m━━━━━━━━━━━━━━━━━━━━\u001b[0m\u001b[37m\u001b[0m \u001b[1m41s\u001b[0m 872ms/step - accuracy: 0.9947 - loss: 0.0292 - val_accuracy: 0.8881 - val_loss: 0.4403\n",
            "Epoch 17/30\n",
            "\u001b[1m35/35\u001b[0m \u001b[32m━━━━━━━━━━━━━━━━━━━━\u001b[0m\u001b[37m\u001b[0m \u001b[1m40s\u001b[0m 831ms/step - accuracy: 0.9920 - loss: 0.0243 - val_accuracy: 0.8845 - val_loss: 0.4401\n",
            "Epoch 18/30\n",
            "\u001b[1m35/35\u001b[0m \u001b[32m━━━━━━━━━━━━━━━━━━━━\u001b[0m\u001b[37m\u001b[0m \u001b[1m30s\u001b[0m 857ms/step - accuracy: 0.9936 - loss: 0.0242 - val_accuracy: 0.8881 - val_loss: 0.4535\n",
            "Epoch 19/30\n",
            "\u001b[1m35/35\u001b[0m \u001b[32m━━━━━━━━━━━━━━━━━━━━\u001b[0m\u001b[37m\u001b[0m \u001b[1m29s\u001b[0m 844ms/step - accuracy: 0.9946 - loss: 0.0212 - val_accuracy: 0.8845 - val_loss: 0.4202\n",
            "Epoch 20/30\n",
            "\u001b[1m35/35\u001b[0m \u001b[32m━━━━━━━━━━━━━━━━━━━━\u001b[0m\u001b[37m\u001b[0m \u001b[1m30s\u001b[0m 860ms/step - accuracy: 0.9965 - loss: 0.0180 - val_accuracy: 0.8953 - val_loss: 0.4489\n",
            "Epoch 21/30\n",
            "\u001b[1m35/35\u001b[0m \u001b[32m━━━━━━━━━━━━━━━━━━━━\u001b[0m\u001b[37m\u001b[0m \u001b[1m29s\u001b[0m 832ms/step - accuracy: 0.9945 - loss: 0.0268 - val_accuracy: 0.8881 - val_loss: 0.4528\n",
            "Epoch 22/30\n",
            "\u001b[1m35/35\u001b[0m \u001b[32m━━━━━━━━━━━━━━━━━━━━\u001b[0m\u001b[37m\u001b[0m \u001b[1m30s\u001b[0m 863ms/step - accuracy: 0.9969 - loss: 0.0182 - val_accuracy: 0.8917 - val_loss: 0.4456\n",
            "Epoch 23/30\n",
            "\u001b[1m35/35\u001b[0m \u001b[32m━━━━━━━━━━━━━━━━━━━━\u001b[0m\u001b[37m\u001b[0m \u001b[1m30s\u001b[0m 852ms/step - accuracy: 0.9931 - loss: 0.0284 - val_accuracy: 0.8917 - val_loss: 0.4300\n",
            "Epoch 24/30\n",
            "\u001b[1m35/35\u001b[0m \u001b[32m━━━━━━━━━━━━━━━━━━━━\u001b[0m\u001b[37m\u001b[0m \u001b[1m30s\u001b[0m 867ms/step - accuracy: 0.9934 - loss: 0.0223 - val_accuracy: 0.8917 - val_loss: 0.4532\n",
            "Epoch 25/30\n",
            "\u001b[1m35/35\u001b[0m \u001b[32m━━━━━━━━━━━━━━━━━━━━\u001b[0m\u001b[37m\u001b[0m \u001b[1m40s\u001b[0m 811ms/step - accuracy: 0.9955 - loss: 0.0197 - val_accuracy: 0.8881 - val_loss: 0.4543\n",
            "Epoch 26/30\n",
            "\u001b[1m35/35\u001b[0m \u001b[32m━━━━━━━━━━━━━━━━━━━━\u001b[0m\u001b[37m\u001b[0m \u001b[1m29s\u001b[0m 832ms/step - accuracy: 0.9938 - loss: 0.0298 - val_accuracy: 0.8881 - val_loss: 0.4603\n",
            "Epoch 27/30\n",
            "\u001b[1m35/35\u001b[0m \u001b[32m━━━━━━━━━━━━━━━━━━━━\u001b[0m\u001b[37m\u001b[0m \u001b[1m30s\u001b[0m 854ms/step - accuracy: 0.9927 - loss: 0.0204 - val_accuracy: 0.8845 - val_loss: 0.4579\n",
            "Epoch 28/30\n",
            "\u001b[1m35/35\u001b[0m \u001b[32m━━━━━━━━━━━━━━━━━━━━\u001b[0m\u001b[37m\u001b[0m \u001b[1m30s\u001b[0m 855ms/step - accuracy: 0.9981 - loss: 0.0131 - val_accuracy: 0.8917 - val_loss: 0.4499\n",
            "Epoch 29/30\n",
            "\u001b[1m35/35\u001b[0m \u001b[32m━━━━━━━━━━━━━━━━━━━━\u001b[0m\u001b[37m\u001b[0m \u001b[1m30s\u001b[0m 870ms/step - accuracy: 0.9944 - loss: 0.0164 - val_accuracy: 0.8881 - val_loss: 0.4670\n",
            "Epoch 30/30\n",
            "\u001b[1m35/35\u001b[0m \u001b[32m━━━━━━━━━━━━━━━━━━━━\u001b[0m\u001b[37m\u001b[0m \u001b[1m29s\u001b[0m 833ms/step - accuracy: 0.9975 - loss: 0.0160 - val_accuracy: 0.8881 - val_loss: 0.4824\n"
          ]
        }
      ],
      "source": [
        "# 10. TRAINING\n",
        "history = model.fit(\n",
        "    train_generator,\n",
        "    epochs=30,\n",
        "    validation_data=val_generator,\n",
        "    verbose=1\n",
        ")"
      ]
    },
    {
      "cell_type": "code",
      "source": [
        "# 11. VISUALISASI HASIL\n",
        "acc = history.history['accuracy']\n",
        "val_acc = history.history['val_accuracy']\n",
        "loss = history.history['loss']\n",
        "val_loss = history.history['val_loss']\n",
        "epochs_range = range(len(acc))\n",
        "\n",
        "plt.figure(figsize=(12, 6))\n",
        "plt.subplot(1, 2, 1)\n",
        "plt.plot(epochs_range, acc, label='Train Accuracy')\n",
        "plt.plot(epochs_range, val_acc, label='Val Accuracy')\n",
        "plt.title('Accuracy')\n",
        "plt.legend()\n",
        "\n",
        "plt.subplot(1, 2, 2)\n",
        "plt.plot(epochs_range, loss, label='Train Loss')\n",
        "plt.plot(epochs_range, val_loss, label='Val Loss')\n",
        "plt.title('Loss')\n",
        "plt.legend()\n",
        "\n",
        "plt.show()"
      ],
      "metadata": {
        "colab": {
          "base_uri": "https://localhost:8080/",
          "height": 545
        },
        "id": "SypeJgKLzJoK",
        "outputId": "8b93fa93-2132-4dc1-8a49-32cc07acc11e"
      },
      "execution_count": 21,
      "outputs": [
        {
          "output_type": "display_data",
          "data": {
            "text/plain": [
              "<Figure size 1200x600 with 2 Axes>"
            ],
            "image/png": "[encoded data removed]"
          },
          "metadata": {}
        }
      ]
    },
    {
      "cell_type": "code",
      "source": [
        "from google.colab import files\n",
        "from tensorflow.keras.preprocessing import image\n",
        "import numpy as np\n",
        "\n",
        "uploaded = files.upload()\n",
        "\n",
        "for fn in uploaded.keys():\n",
        "    # Load & preprocess image\n",
        "    img = image.load_img(fn, target_size=(160, 160))\n",
        "    x = image.img_to_array(img)\n",
        "    x = np.expand_dims(x, axis=0)\n",
        "    x = x / 255.0\n",
        "\n",
        "    # Predict\n",
        "    prediction = model.predict(x)[0]  # ambil array dari hasil prediksi\n",
        "    class_names = list(train_generator.class_indices.keys())\n",
        "\n",
        "    # Ambil 3 prediksi teratas\n",
        "    top_3_indices = prediction.argsort()[-3:][::-1]  # index 3 nilai tertinggi\n",
        "    print(f\"\\nGambar '{fn}' diklasifikasikan sebagai:\")\n",
        "\n",
        "    for i in top_3_indices:\n",
        "        label = class_names[i]\n",
        "        confidence = prediction[i] * 100\n",
        "        print(f\"  • {label}: {confidence:.2f}%\")\n"
      ],
      "metadata": {
        "colab": {
          "base_uri": "https://localhost:8080/",
          "height": 183
        },
        "id": "NiWL_QY811zm",
        "outputId": "90c12613-2a45-458e-d2e7-8f08ba2be264"
      },
      "execution_count": 27,
      "outputs": [
        {
          "output_type": "display_data",
          "data": {
            "text/plain": [
              "<IPython.core.display.HTML object>"
            ],
            "text/html": [
              "\n",
              "     <input type=\"file\" id=\"files-833f000f-1d2a-4376-aaaa-cbc5152d6ec3\" name=\"files[]\" multiple disabled\n",
              "        style=\"border:none\" />\n",
              "     <output id=\"result-833f000f-1d2a-4376-aaaa-cbc5152d6ec3\">\n",
              "      Upload widget is only available when the cell has been executed in the\n",
              "      current browser session. Please rerun this cell to enable.\n",
              "      </output>\n",
              "      <script>// Copyright 2017 Google LLC\n",
              "//\n",
              "// Licensed under the Apache License, Version 2.0 (the \"License\");\n",
              "// you may not use this file except in compliance with the License.\n",
              "// You may obtain a copy of the License at\n",
              "//\n",
              "//      http://www.apache.org/licenses/LICENSE-2.0\n",
              "//\n",
              "// Unless required by applicable law or agreed to in writing, software\n",
              "// distributed under the License is distributed on an \"AS IS\" BASIS,\n",
              "// WITHOUT WARRANTIES OR CONDITIONS OF ANY KIND, either express or implied.\n",
              "// See the License for the specific language governing permissions and\n",
              "// limitations under the License.\n",
              "\n",
              "/**\n",
              " * @fileoverview Helpers for google.colab Python module.\n",
              " */\n",
              "(function(scope) {\n",
              "function span(text, styleAttributes = {}) {\n",
              "  const element = document.createElement('span');\n",
              "  element.textContent = text;\n",
              "  for (const key of Object.keys(styleAttributes)) {\n",
              "    element.style[key] = styleAttributes[key];\n",
              "  }\n",
              "  return element;\n",
              "}\n",
              "\n",
              "// Max number of bytes which will be uploaded at a time.\n",
              "const MAX_PAYLOAD_SIZE = 100 * 1024;\n",
              "\n",
              "function _uploadFiles(inputId, outputId) {\n",
              "  const steps = uploadFilesStep(inputId, outputId);\n",
              "  const outputElement = document.getElementById(outputId);\n",
              "  // Cache steps on the outputElement to make it available for the next call\n",
              "  // to uploadFilesContinue from Python.\n",
              "  outputElement.steps = steps;\n",
              "\n",
              "  return _uploadFilesContinue(outputId);\n",
              "}\n",
              "\n",
              "// This is roughly an async generator (not supported in the browser yet),\n",
              "// where there are multiple asynchronous steps and the Python side is going\n",
              "// to poll for completion of each step.\n",
              "// This uses a Promise to block the python side on completion of each step,\n",
              "// then passes the result of the previous step as the input to the next step.\n",
              "function _uploadFilesContinue(outputId) {\n",
              "  const outputElement = document.getElementById(outputId);\n",
              "  const steps = outputElement.steps;\n",
              "\n",
              "  const next = steps.next(outputElement.lastPromiseValue);\n",
              "  return Promise.resolve(next.value.promise).then((value) => {\n",
              "    // Cache the last promise value to make it available to the next\n",
              "    // step of the generator.\n",
              "    outputElement.lastPromiseValue = value;\n",
              "    return next.value.response;\n",
              "  });\n",
              "}\n",
              "\n",
              "/**\n",
              " * Generator function which is called between each async step of the upload\n",
              " * process.\n",
              " * @param {string} inputId Element ID of the input file picker element.\n",
              " * @param {string} outputId Element ID of the output display.\n",
              " * @return {!Iterable<!Object>} Iterable of next steps.\n",
              " */\n",
              "function* uploadFilesStep(inputId, outputId) {\n",
              "  const inputElement = document.getElementById(inputId);\n",
              "  inputElement.disabled = false;\n",
              "\n",
              "  const outputElement = document.getElementById(outputId);\n",
              "  outputElement.innerHTML = '';\n",
              "\n",
              "  const pickedPromise = new Promise((resolve) => {\n",
              "    inputElement.addEventListener('change', (e) => {\n",
              "      resolve(e.target.files);\n",
              "    });\n",
              "  });\n",
              "\n",
              "  const cancel = document.createElement('button');\n",
              "  inputElement.parentElement.appendChild(cancel);\n",
              "  cancel.textContent = 'Cancel upload';\n",
              "  const cancelPromise = new Promise((resolve) => {\n",
              "    cancel.onclick = () => {\n",
              "      resolve(null);\n",
              "    };\n",
              "  });\n",
              "\n",
              "  // Wait for the user to pick the files.\n",
              "  const files = yield {\n",
              "    promise: Promise.race([pickedPromise, cancelPromise]),\n",
              "    response: {\n",
              "      action: 'starting',\n",
              "    }\n",
              "  };\n",
              "\n",
              "  cancel.remove();\n",
              "\n",
              "  // Disable the input element since further picks are not allowed.\n",
              "  inputElement.disabled = true;\n",
              "\n",
              "  if (!files) {\n",
              "    return {\n",
              "      response: {\n",
              "        action: 'complete',\n",
              "      }\n",
              "    };\n",
              "  }\n",
              "\n",
              "  for (const file of files) {\n",
              "    const li = document.createElement('li');\n",
              "    li.append(span(file.name, {fontWeight: 'bold'}));\n",
              "    li.append(span(\n",
              "        `(${file.type || 'n/a'}) - ${file.size} bytes, ` +\n",
              "        `last modified: ${\n",
              "            file.lastModifiedDate ? file.lastModifiedDate.toLocaleDateString() :\n",
              "                                    'n/a'} - `));\n",
              "    const percent = span('0% done');\n",
              "    li.appendChild(percent);\n",
              "\n",
              "    outputElement.appendChild(li);\n",
              "\n",
              "    const fileDataPromise = new Promise((resolve) => {\n",
              "      const reader = new FileReader();\n",
              "      reader.onload = (e) => {\n",
              "        resolve(e.target.result);\n",
              "      };\n",
              "      reader.readAsArrayBuffer(file);\n",
              "    });\n",
              "    // Wait for the data to be ready.\n",
              "    let fileData = yield {\n",
              "      promise: fileDataPromise,\n",
              "      response: {\n",
              "        action: 'continue',\n",
              "      }\n",
              "    };\n",
              "\n",
              "    // Use a chunked sending to avoid message size limits. See b/62115660.\n",
              "    let position = 0;\n",
              "    do {\n",
              "      const length = Math.min(fileData.byteLength - position, MAX_PAYLOAD_SIZE);\n",
              "      const chunk = new Uint8Array(fileData, position, length);\n",
              "      position += length;\n",
              "\n",
              "      const base64 = btoa(String.fromCharCode.apply(null, chunk));\n",
              "      yield {\n",
              "        response: {\n",
              "          action: 'append',\n",
              "          file: file.name,\n",
              "          data: base64,\n",
              "        },\n",
              "      };\n",
              "\n",
              "      let percentDone = fileData.byteLength === 0 ?\n",
              "          100 :\n",
              "          Math.round((position / fileData.byteLength) * 100);\n",
              "      percent.textContent = `${percentDone}% done`;\n",
              "\n",
              "    } while (position < fileData.byteLength);\n",
              "  }\n",
              "\n",
              "  // All done.\n",
              "  yield {\n",
              "    response: {\n",
              "      action: 'complete',\n",
              "    }\n",
              "  };\n",
              "}\n",
              "\n",
              "scope.google = scope.google || {};\n",
              "scope.google.colab = scope.google.colab || {};\n",
              "scope.google.colab._files = {\n",
              "  _uploadFiles,\n",
              "  _uploadFilesContinue,\n",
              "};\n",
              "})(self);\n",
              "</script> "
            ]
          },
          "metadata": {}
        },
        {
          "output_type": "stream",
          "name": "stdout",
          "text": [
            "Saving dayak.jpg to dayak.jpg\n",
            "\u001b[1m1/1\u001b[0m \u001b[32m━━━━━━━━━━━━━━━━━━━━\u001b[0m\u001b[37m\u001b[0m \u001b[1m0s\u001b[0m 34ms/step\n",
            "\n",
            "Gambar 'dayak.jpg' diklasifikasikan sebagai:\n",
            "  • Not Potatoes: 100.00%\n",
            "  • Black Scurf: 0.00%\n",
            "  • Common Scab: 0.00%\n"
          ]
        }
      ]
    },
    {
      "cell_type": "code",
      "source": [
        "# Simpan model\n",
        "model.save('model_kentang.h5')\n",
        "\n",
        "# Konversi ke TFLite\n",
        "converter = tf.lite.TFLiteConverter.from_keras_model(model)\n",
        "tflite_model = converter.convert()\n",
        "\n",
        "with open('model_kentang.tflite', 'wb') as f:\n",
        "    f.write(tflite_model)\n"
      ],
      "metadata": {
        "colab": {
          "base_uri": "https://localhost:8080/"
        },
        "id": "O9gPQIwC4MD3",
        "outputId": "f73dfad0-9832-4b91-b700-0984eb2b58f0"
      },
      "execution_count": 28,
      "outputs": [
        {
          "output_type": "stream",
          "name": "stderr",
          "text": [
            "WARNING:absl:You are saving your model as an HDF5 file via `model.save()` or `keras.saving.save_model(model)`. This file format is considered legacy. We recommend using instead the native Keras format, e.g. `model.save('my_model.keras')` or `keras.saving.save_model(model, 'my_model.keras')`. \n"
          ]
        },
        {
          "output_type": "stream",
          "name": "stdout",
          "text": [
            "Saved artifact at '/tmp/tmpvv05rxr1'. The following endpoints are available:\n",
            "\n",
            "* Endpoint 'serve'\n",
            "  args_0 (POSITIONAL_ONLY): TensorSpec(shape=(None, 160, 160, 3), dtype=tf.float32, name='keras_tensor_154')\n",
            "Output Type:\n",
            "  TensorSpec(shape=(None, 8), dtype=tf.float32, name=None)\n",
            "Captures:\n",
            "  137538127160400: TensorSpec(shape=(), dtype=tf.resource, name=None)\n",
            "  137538127164048: TensorSpec(shape=(), dtype=tf.resource, name=None)\n",
            "  137538127165776: TensorSpec(shape=(), dtype=tf.resource, name=None)\n",
            "  137538127167312: TensorSpec(shape=(), dtype=tf.resource, name=None)\n",
            "  137538127166352: TensorSpec(shape=(), dtype=tf.resource, name=None)\n",
            "  137538127163664: TensorSpec(shape=(), dtype=tf.resource, name=None)\n",
            "  137538114666576: TensorSpec(shape=(), dtype=tf.resource, name=None)\n",
            "  137538114667728: TensorSpec(shape=(), dtype=tf.resource, name=None)\n",
            "  137538127166544: TensorSpec(shape=(), dtype=tf.resource, name=None)\n",
            "  137538114667536: TensorSpec(shape=(), dtype=tf.resource, name=None)\n",
            "  137538114668112: TensorSpec(shape=(), dtype=tf.resource, name=None)\n",
            "  137538114669648: TensorSpec(shape=(), dtype=tf.resource, name=None)\n",
            "  137538114667152: TensorSpec(shape=(), dtype=tf.resource, name=None)\n",
            "  137538114666768: TensorSpec(shape=(), dtype=tf.resource, name=None)\n",
            "  137538114668688: TensorSpec(shape=(), dtype=tf.resource, name=None)\n",
            "  137538114671568: TensorSpec(shape=(), dtype=tf.resource, name=None)\n",
            "  137538114673488: TensorSpec(shape=(), dtype=tf.resource, name=None)\n",
            "  137538114672144: TensorSpec(shape=(), dtype=tf.resource, name=None)\n",
            "  137538114672528: TensorSpec(shape=(), dtype=tf.resource, name=None)\n",
            "  137538114671376: TensorSpec(shape=(), dtype=tf.resource, name=None)\n",
            "  137538114675024: TensorSpec(shape=(), dtype=tf.resource, name=None)\n",
            "  137538114674640: TensorSpec(shape=(), dtype=tf.resource, name=None)\n",
            "  137538114674256: TensorSpec(shape=(), dtype=tf.resource, name=None)\n",
            "  137538114675216: TensorSpec(shape=(), dtype=tf.resource, name=None)\n",
            "  137538114673872: TensorSpec(shape=(), dtype=tf.resource, name=None)\n",
            "  137538114677328: TensorSpec(shape=(), dtype=tf.resource, name=None)\n",
            "  137538114677712: TensorSpec(shape=(), dtype=tf.resource, name=None)\n",
            "  137538114678096: TensorSpec(shape=(), dtype=tf.resource, name=None)\n",
            "  137538114677904: TensorSpec(shape=(), dtype=tf.resource, name=None)\n",
            "  137538114672720: TensorSpec(shape=(), dtype=tf.resource, name=None)\n",
            "  137538114679248: TensorSpec(shape=(), dtype=tf.resource, name=None)\n",
            "  137538114679632: TensorSpec(shape=(), dtype=tf.resource, name=None)\n",
            "  137538114680016: TensorSpec(shape=(), dtype=tf.resource, name=None)\n",
            "  137538114679824: TensorSpec(shape=(), dtype=tf.resource, name=None)\n",
            "  137538114676176: TensorSpec(shape=(), dtype=tf.resource, name=None)\n",
            "  137538114681168: TensorSpec(shape=(), dtype=tf.resource, name=None)\n",
            "  137538114681552: TensorSpec(shape=(), dtype=tf.resource, name=None)\n",
            "  137538114681936: TensorSpec(shape=(), dtype=tf.resource, name=None)\n",
            "  137538114681744: TensorSpec(shape=(), dtype=tf.resource, name=None)\n",
            "  137538114676944: TensorSpec(shape=(), dtype=tf.resource, name=None)\n",
            "  137538114675408: TensorSpec(shape=(), dtype=tf.resource, name=None)\n",
            "  137538114338896: TensorSpec(shape=(), dtype=tf.resource, name=None)\n",
            "  137538114340048: TensorSpec(shape=(), dtype=tf.resource, name=None)\n",
            "  137538114680784: TensorSpec(shape=(), dtype=tf.resource, name=None)\n",
            "  137538114339856: TensorSpec(shape=(), dtype=tf.resource, name=None)\n",
            "  137538114339664: TensorSpec(shape=(), dtype=tf.resource, name=None)\n",
            "  137538114341776: TensorSpec(shape=(), dtype=tf.resource, name=None)\n",
            "  137538114342160: TensorSpec(shape=(), dtype=tf.resource, name=None)\n",
            "  137538114341968: TensorSpec(shape=(), dtype=tf.resource, name=None)\n",
            "  137538114339472: TensorSpec(shape=(), dtype=tf.resource, name=None)\n",
            "  137538114343312: TensorSpec(shape=(), dtype=tf.resource, name=None)\n",
            "  137538114343696: TensorSpec(shape=(), dtype=tf.resource, name=None)\n",
            "  137538114344080: TensorSpec(shape=(), dtype=tf.resource, name=None)\n",
            "  137538114343888: TensorSpec(shape=(), dtype=tf.resource, name=None)\n",
            "  137538114340816: TensorSpec(shape=(), dtype=tf.resource, name=None)\n",
            "  137538114345232: TensorSpec(shape=(), dtype=tf.resource, name=None)\n",
            "  137538114345616: TensorSpec(shape=(), dtype=tf.resource, name=None)\n",
            "  137538114346000: TensorSpec(shape=(), dtype=tf.resource, name=None)\n",
            "  137538114345808: TensorSpec(shape=(), dtype=tf.resource, name=None)\n",
            "  137538114341392: TensorSpec(shape=(), dtype=tf.resource, name=None)\n",
            "  137538114347152: TensorSpec(shape=(), dtype=tf.resource, name=None)\n",
            "  137538114347536: TensorSpec(shape=(), dtype=tf.resource, name=None)\n",
            "  137538114347920: TensorSpec(shape=(), dtype=tf.resource, name=None)\n",
            "  137538114347728: TensorSpec(shape=(), dtype=tf.resource, name=None)\n",
            "  137538114342928: TensorSpec(shape=(), dtype=tf.resource, name=None)\n",
            "  137538114349072: TensorSpec(shape=(), dtype=tf.resource, name=None)\n",
            "  137538114349456: TensorSpec(shape=(), dtype=tf.resource, name=None)\n",
            "  137538114349840: TensorSpec(shape=(), dtype=tf.resource, name=None)\n",
            "  137538114349648: TensorSpec(shape=(), dtype=tf.resource, name=None)\n",
            "  137538114344848: TensorSpec(shape=(), dtype=tf.resource, name=None)\n",
            "  137538114350992: TensorSpec(shape=(), dtype=tf.resource, name=None)\n",
            "  137538114351376: TensorSpec(shape=(), dtype=tf.resource, name=None)\n",
            "  137538114351760: TensorSpec(shape=(), dtype=tf.resource, name=None)\n",
            "  137538114351568: TensorSpec(shape=(), dtype=tf.resource, name=None)\n",
            "  137538114346768: TensorSpec(shape=(), dtype=tf.resource, name=None)\n",
            "  137538114352912: TensorSpec(shape=(), dtype=tf.resource, name=None)\n",
            "  137538114353296: TensorSpec(shape=(), dtype=tf.resource, name=None)\n",
            "  137538114353680: TensorSpec(shape=(), dtype=tf.resource, name=None)\n",
            "  137538114353488: TensorSpec(shape=(), dtype=tf.resource, name=None)\n",
            "  137538114348688: TensorSpec(shape=(), dtype=tf.resource, name=None)\n",
            "  137538114354832: TensorSpec(shape=(), dtype=tf.resource, name=None)\n",
            "  137538114339088: TensorSpec(shape=(), dtype=tf.resource, name=None)\n",
            "  137538115322896: TensorSpec(shape=(), dtype=tf.resource, name=None)\n",
            "  137538114354448: TensorSpec(shape=(), dtype=tf.resource, name=None)\n",
            "  137538114352528: TensorSpec(shape=(), dtype=tf.resource, name=None)\n",
            "  137538115323472: TensorSpec(shape=(), dtype=tf.resource, name=None)\n",
            "  137538115323856: TensorSpec(shape=(), dtype=tf.resource, name=None)\n",
            "  137538115324240: TensorSpec(shape=(), dtype=tf.resource, name=None)\n",
            "  137538115324048: TensorSpec(shape=(), dtype=tf.resource, name=None)\n",
            "  137538115322704: TensorSpec(shape=(), dtype=tf.resource, name=None)\n",
            "  137538115325392: TensorSpec(shape=(), dtype=tf.resource, name=None)\n",
            "  137538115325776: TensorSpec(shape=(), dtype=tf.resource, name=None)\n",
            "  137538115326160: TensorSpec(shape=(), dtype=tf.resource, name=None)\n",
            "  137538115325968: TensorSpec(shape=(), dtype=tf.resource, name=None)\n",
            "  137538115321936: TensorSpec(shape=(), dtype=tf.resource, name=None)\n",
            "  137538115327312: TensorSpec(shape=(), dtype=tf.resource, name=None)\n",
            "  137538115327696: TensorSpec(shape=(), dtype=tf.resource, name=None)\n",
            "  137538115328080: TensorSpec(shape=(), dtype=tf.resource, name=None)\n",
            "  137538115327888: TensorSpec(shape=(), dtype=tf.resource, name=None)\n",
            "  137538115322128: TensorSpec(shape=(), dtype=tf.resource, name=None)\n",
            "  137538115329232: TensorSpec(shape=(), dtype=tf.resource, name=None)\n",
            "  137538115329616: TensorSpec(shape=(), dtype=tf.resource, name=None)\n",
            "  137538115330000: TensorSpec(shape=(), dtype=tf.resource, name=None)\n",
            "  137538115329808: TensorSpec(shape=(), dtype=tf.resource, name=None)\n",
            "  137538115325008: TensorSpec(shape=(), dtype=tf.resource, name=None)\n",
            "  137538115331152: TensorSpec(shape=(), dtype=tf.resource, name=None)\n",
            "  137538115331536: TensorSpec(shape=(), dtype=tf.resource, name=None)\n",
            "  137538115331920: TensorSpec(shape=(), dtype=tf.resource, name=None)\n",
            "  137538115331728: TensorSpec(shape=(), dtype=tf.resource, name=None)\n",
            "  137538115326928: TensorSpec(shape=(), dtype=tf.resource, name=None)\n",
            "  137538115333072: TensorSpec(shape=(), dtype=tf.resource, name=None)\n",
            "  137538115333456: TensorSpec(shape=(), dtype=tf.resource, name=None)\n",
            "  137538115333840: TensorSpec(shape=(), dtype=tf.resource, name=None)\n",
            "  137538115333648: TensorSpec(shape=(), dtype=tf.resource, name=None)\n",
            "  137538115328848: TensorSpec(shape=(), dtype=tf.resource, name=None)\n",
            "  137538115334992: TensorSpec(shape=(), dtype=tf.resource, name=None)\n",
            "  137538115335376: TensorSpec(shape=(), dtype=tf.resource, name=None)\n",
            "  137538115335760: TensorSpec(shape=(), dtype=tf.resource, name=None)\n",
            "  137538115335568: TensorSpec(shape=(), dtype=tf.resource, name=None)\n",
            "  137538115330768: TensorSpec(shape=(), dtype=tf.resource, name=None)\n",
            "  137538115336912: TensorSpec(shape=(), dtype=tf.resource, name=None)\n",
            "  137538115337296: TensorSpec(shape=(), dtype=tf.resource, name=None)\n",
            "  137538115338064: TensorSpec(shape=(), dtype=tf.resource, name=None)\n",
            "  137538115337488: TensorSpec(shape=(), dtype=tf.resource, name=None)\n",
            "  137538115332688: TensorSpec(shape=(), dtype=tf.resource, name=None)\n",
            "  137538115322320: TensorSpec(shape=(), dtype=tf.resource, name=None)\n",
            "  137538099872016: TensorSpec(shape=(), dtype=tf.resource, name=None)\n",
            "  137538099873168: TensorSpec(shape=(), dtype=tf.resource, name=None)\n",
            "  137538115334608: TensorSpec(shape=(), dtype=tf.resource, name=None)\n",
            "  137538099872976: TensorSpec(shape=(), dtype=tf.resource, name=None)\n",
            "  137538099874320: TensorSpec(shape=(), dtype=tf.resource, name=None)\n",
            "  137538099874704: TensorSpec(shape=(), dtype=tf.resource, name=None)\n",
            "  137538099875088: TensorSpec(shape=(), dtype=tf.resource, name=None)\n",
            "  137538099874896: TensorSpec(shape=(), dtype=tf.resource, name=None)\n",
            "  137538099872784: TensorSpec(shape=(), dtype=tf.resource, name=None)\n",
            "  137538099876240: TensorSpec(shape=(), dtype=tf.resource, name=None)\n",
            "  137538099876624: TensorSpec(shape=(), dtype=tf.resource, name=None)\n",
            "  137538099877008: TensorSpec(shape=(), dtype=tf.resource, name=None)\n",
            "  137538099876816: TensorSpec(shape=(), dtype=tf.resource, name=None)\n",
            "  137538099872208: TensorSpec(shape=(), dtype=tf.resource, name=None)\n",
            "  137538099878160: TensorSpec(shape=(), dtype=tf.resource, name=None)\n",
            "  137538099878544: TensorSpec(shape=(), dtype=tf.resource, name=None)\n",
            "  137538099878928: TensorSpec(shape=(), dtype=tf.resource, name=None)\n",
            "  137538099878736: TensorSpec(shape=(), dtype=tf.resource, name=None)\n",
            "  137538099873936: TensorSpec(shape=(), dtype=tf.resource, name=None)\n",
            "  137538099880080: TensorSpec(shape=(), dtype=tf.resource, name=None)\n",
            "  137538099880464: TensorSpec(shape=(), dtype=tf.resource, name=None)\n",
            "  137538099880848: TensorSpec(shape=(), dtype=tf.resource, name=None)\n",
            "  137538099880656: TensorSpec(shape=(), dtype=tf.resource, name=None)\n",
            "  137538099875856: TensorSpec(shape=(), dtype=tf.resource, name=None)\n",
            "  137538099882000: TensorSpec(shape=(), dtype=tf.resource, name=None)\n",
            "  137538099882384: TensorSpec(shape=(), dtype=tf.resource, name=None)\n",
            "  137538099882768: TensorSpec(shape=(), dtype=tf.resource, name=None)\n",
            "  137538099882576: TensorSpec(shape=(), dtype=tf.resource, name=None)\n",
            "  137538099877776: TensorSpec(shape=(), dtype=tf.resource, name=None)\n",
            "  137538099883920: TensorSpec(shape=(), dtype=tf.resource, name=None)\n",
            "  137538099884304: TensorSpec(shape=(), dtype=tf.resource, name=None)\n",
            "  137538099884688: TensorSpec(shape=(), dtype=tf.resource, name=None)\n",
            "  137538099884496: TensorSpec(shape=(), dtype=tf.resource, name=None)\n",
            "  137538099879696: TensorSpec(shape=(), dtype=tf.resource, name=None)\n",
            "  137538099885840: TensorSpec(shape=(), dtype=tf.resource, name=None)\n",
            "  137538099886224: TensorSpec(shape=(), dtype=tf.resource, name=None)\n",
            "  137538099886608: TensorSpec(shape=(), dtype=tf.resource, name=None)\n",
            "  137538099886416: TensorSpec(shape=(), dtype=tf.resource, name=None)\n",
            "  137538099881616: TensorSpec(shape=(), dtype=tf.resource, name=None)\n",
            "  137538099887760: TensorSpec(shape=(), dtype=tf.resource, name=None)\n",
            "  137538099872400: TensorSpec(shape=(), dtype=tf.resource, name=None)\n",
            "  137538100216848: TensorSpec(shape=(), dtype=tf.resource, name=None)\n",
            "  137538099887376: TensorSpec(shape=(), dtype=tf.resource, name=None)\n",
            "  137538099885456: TensorSpec(shape=(), dtype=tf.resource, name=None)\n",
            "  137538100217424: TensorSpec(shape=(), dtype=tf.resource, name=None)\n",
            "  137538100217808: TensorSpec(shape=(), dtype=tf.resource, name=None)\n",
            "  137538100218192: TensorSpec(shape=(), dtype=tf.resource, name=None)\n",
            "  137538100218000: TensorSpec(shape=(), dtype=tf.resource, name=None)\n",
            "  137538100216656: TensorSpec(shape=(), dtype=tf.resource, name=None)\n",
            "  137538100219344: TensorSpec(shape=(), dtype=tf.resource, name=None)\n",
            "  137538100219728: TensorSpec(shape=(), dtype=tf.resource, name=None)\n",
            "  137538100220112: TensorSpec(shape=(), dtype=tf.resource, name=None)\n",
            "  137538100219920: TensorSpec(shape=(), dtype=tf.resource, name=None)\n",
            "  137538100215888: TensorSpec(shape=(), dtype=tf.resource, name=None)\n",
            "  137538100221264: TensorSpec(shape=(), dtype=tf.resource, name=None)\n",
            "  137538100221648: TensorSpec(shape=(), dtype=tf.resource, name=None)\n",
            "  137538100222032: TensorSpec(shape=(), dtype=tf.resource, name=None)\n",
            "  137538100221840: TensorSpec(shape=(), dtype=tf.resource, name=None)\n",
            "  137538100216080: TensorSpec(shape=(), dtype=tf.resource, name=None)\n",
            "  137538100223184: TensorSpec(shape=(), dtype=tf.resource, name=None)\n",
            "  137538100223568: TensorSpec(shape=(), dtype=tf.resource, name=None)\n",
            "  137538100223952: TensorSpec(shape=(), dtype=tf.resource, name=None)\n",
            "  137538100223760: TensorSpec(shape=(), dtype=tf.resource, name=None)\n",
            "  137538100218960: TensorSpec(shape=(), dtype=tf.resource, name=None)\n",
            "  137538100225104: TensorSpec(shape=(), dtype=tf.resource, name=None)\n",
            "  137538100225488: TensorSpec(shape=(), dtype=tf.resource, name=None)\n",
            "  137538100225872: TensorSpec(shape=(), dtype=tf.resource, name=None)\n",
            "  137538100225680: TensorSpec(shape=(), dtype=tf.resource, name=None)\n",
            "  137538100220880: TensorSpec(shape=(), dtype=tf.resource, name=None)\n",
            "  137538100227024: TensorSpec(shape=(), dtype=tf.resource, name=None)\n",
            "  137538100227408: TensorSpec(shape=(), dtype=tf.resource, name=None)\n",
            "  137538100227792: TensorSpec(shape=(), dtype=tf.resource, name=None)\n",
            "  137538100227600: TensorSpec(shape=(), dtype=tf.resource, name=None)\n",
            "  137538100222800: TensorSpec(shape=(), dtype=tf.resource, name=None)\n",
            "  137538100228944: TensorSpec(shape=(), dtype=tf.resource, name=None)\n",
            "  137538100229328: TensorSpec(shape=(), dtype=tf.resource, name=None)\n",
            "  137538100229712: TensorSpec(shape=(), dtype=tf.resource, name=None)\n",
            "  137538100229520: TensorSpec(shape=(), dtype=tf.resource, name=None)\n",
            "  137538100224720: TensorSpec(shape=(), dtype=tf.resource, name=None)\n",
            "  137538100230864: TensorSpec(shape=(), dtype=tf.resource, name=None)\n",
            "  137538100231248: TensorSpec(shape=(), dtype=tf.resource, name=None)\n",
            "  137538100232016: TensorSpec(shape=(), dtype=tf.resource, name=None)\n",
            "  137538100231440: TensorSpec(shape=(), dtype=tf.resource, name=None)\n",
            "  137538100226640: TensorSpec(shape=(), dtype=tf.resource, name=None)\n",
            "  137538100216272: TensorSpec(shape=(), dtype=tf.resource, name=None)\n",
            "  137538098479376: TensorSpec(shape=(), dtype=tf.resource, name=None)\n",
            "  137538098480528: TensorSpec(shape=(), dtype=tf.resource, name=None)\n",
            "  137538100228560: TensorSpec(shape=(), dtype=tf.resource, name=None)\n",
            "  137538098480336: TensorSpec(shape=(), dtype=tf.resource, name=None)\n",
            "  137538098481680: TensorSpec(shape=(), dtype=tf.resource, name=None)\n",
            "  137538098482064: TensorSpec(shape=(), dtype=tf.resource, name=None)\n",
            "  137538098482448: TensorSpec(shape=(), dtype=tf.resource, name=None)\n",
            "  137538098482256: TensorSpec(shape=(), dtype=tf.resource, name=None)\n",
            "  137538098480144: TensorSpec(shape=(), dtype=tf.resource, name=None)\n",
            "  137538098483600: TensorSpec(shape=(), dtype=tf.resource, name=None)\n",
            "  137538098483984: TensorSpec(shape=(), dtype=tf.resource, name=None)\n",
            "  137538098484368: TensorSpec(shape=(), dtype=tf.resource, name=None)\n",
            "  137538098484176: TensorSpec(shape=(), dtype=tf.resource, name=None)\n",
            "  137538098479568: TensorSpec(shape=(), dtype=tf.resource, name=None)\n",
            "  137538098485520: TensorSpec(shape=(), dtype=tf.resource, name=None)\n",
            "  137538098485904: TensorSpec(shape=(), dtype=tf.resource, name=None)\n",
            "  137538098486288: TensorSpec(shape=(), dtype=tf.resource, name=None)\n",
            "  137538098486096: TensorSpec(shape=(), dtype=tf.resource, name=None)\n",
            "  137538098481296: TensorSpec(shape=(), dtype=tf.resource, name=None)\n",
            "  137538098487440: TensorSpec(shape=(), dtype=tf.resource, name=None)\n",
            "  137538098487824: TensorSpec(shape=(), dtype=tf.resource, name=None)\n",
            "  137538098488208: TensorSpec(shape=(), dtype=tf.resource, name=None)\n",
            "  137538098488016: TensorSpec(shape=(), dtype=tf.resource, name=None)\n",
            "  137538098483216: TensorSpec(shape=(), dtype=tf.resource, name=None)\n",
            "  137538098489360: TensorSpec(shape=(), dtype=tf.resource, name=None)\n",
            "  137538098489744: TensorSpec(shape=(), dtype=tf.resource, name=None)\n",
            "  137538098490128: TensorSpec(shape=(), dtype=tf.resource, name=None)\n",
            "  137538098489936: TensorSpec(shape=(), dtype=tf.resource, name=None)\n",
            "  137538098485136: TensorSpec(shape=(), dtype=tf.resource, name=None)\n",
            "  137538098491280: TensorSpec(shape=(), dtype=tf.resource, name=None)\n",
            "  137538098492816: TensorSpec(shape=(), dtype=tf.resource, name=None)\n",
            "  137538098492048: TensorSpec(shape=(), dtype=tf.resource, name=None)\n",
            "  137538098491856: TensorSpec(shape=(), dtype=tf.resource, name=None)\n",
            "  137538098487056: TensorSpec(shape=(), dtype=tf.resource, name=None)\n",
            "  137538098493776: TensorSpec(shape=(), dtype=tf.resource, name=None)\n",
            "  137538098493008: TensorSpec(shape=(), dtype=tf.resource, name=None)\n",
            "  137538098493968: TensorSpec(shape=(), dtype=tf.resource, name=None)\n",
            "  137538098493392: TensorSpec(shape=(), dtype=tf.resource, name=None)\n",
            "  137538098492240: TensorSpec(shape=(), dtype=tf.resource, name=None)\n",
            "  137538098495120: TensorSpec(shape=(), dtype=tf.resource, name=None)\n",
            "  137538098490512: TensorSpec(shape=(), dtype=tf.resource, name=None)\n",
            "  137538098856400: TensorSpec(shape=(), dtype=tf.resource, name=None)\n",
            "  137538098494736: TensorSpec(shape=(), dtype=tf.resource, name=None)\n",
            "  137538098492624: TensorSpec(shape=(), dtype=tf.resource, name=None)\n",
            "  137538098857552: TensorSpec(shape=(), dtype=tf.resource, name=None)\n",
            "  137538098857936: TensorSpec(shape=(), dtype=tf.resource, name=None)\n",
            "  137538098858320: TensorSpec(shape=(), dtype=tf.resource, name=None)\n",
            "  137538098858128: TensorSpec(shape=(), dtype=tf.resource, name=None)\n",
            "  137538098856784: TensorSpec(shape=(), dtype=tf.resource, name=None)\n",
            "  137538098859088: TensorSpec(shape=(), dtype=tf.resource, name=None)\n",
            "  137538098861008: TensorSpec(shape=(), dtype=tf.resource, name=None)\n"
          ]
        }
      ]
    },
    {
      "cell_type": "code",
      "source": [
        "from google.colab import files\n",
        "files.download('model_kentang.tflite')"
      ],
      "metadata": {
        "colab": {
          "base_uri": "https://localhost:8080/",
          "height": 17
        },
        "id": "iArTx7bMeaJ-",
        "outputId": "a20bd328-e58a-4d05-ed7d-e0c963c3c2e8"
      },
      "execution_count": 29,
      "outputs": [
        {
          "output_type": "display_data",
          "data": {
            "text/plain": [
              "<IPython.core.display.Javascript object>"
            ],
            "application/javascript": [
              "\n",
              "    async function download(id, filename, size) {\n",
              "      if (!google.colab.kernel.accessAllowed) {\n",
              "        return;\n",
              "      }\n",
              "      const div = document.createElement('div');\n",
              "      const label = document.createElement('label');\n",
              "      label.textContent = `Downloading \"${filename}\": `;\n",
              "      div.appendChild(label);\n",
              "      const progress = document.createElement('progress');\n",
              "      progress.max = size;\n",
              "      div.appendChild(progress);\n",
              "      document.body.appendChild(div);\n",
              "\n",
              "      const buffers = [];\n",
              "      let downloaded = 0;\n",
              "\n",
              "      const channel = await google.colab.kernel.comms.open(id);\n",
              "      // Send a message to notify the kernel that we're ready.\n",
              "      channel.send({})\n",
              "\n",
              "      for await (const message of channel.messages) {\n",
              "        // Send a message to notify the kernel that we're ready.\n",
              "        channel.send({})\n",
              "        if (message.buffers) {\n",
              "          for (const buffer of message.buffers) {\n",
              "            buffers.push(buffer);\n",
              "            downloaded += buffer.byteLength;\n",
              "            progress.value = downloaded;\n",
              "          }\n",
              "        }\n",
              "      }\n",
              "      const blob = new Blob(buffers, {type: 'application/binary'});\n",
              "      const a = document.createElement('a');\n",
              "      a.href = window.URL.createObjectURL(blob);\n",
              "      a.download = filename;\n",
              "      div.appendChild(a);\n",
              "      a.click();\n",
              "      div.remove();\n",
              "    }\n",
              "  "
            ]
          },
          "metadata": {}
        },
        {
          "output_type": "display_data",
          "data": {
            "text/plain": [
              "<IPython.core.display.Javascript object>"
            ],
            "application/javascript": [
              "download(\"download_fb29cfb4-3ec1-4bbd-b00d-40d438f81ce1\", \"model_kentang.tflite\", 8904948)"
            ]
          },
          "metadata": {}
        }
      ]
    }
  ],
  "metadata": {
    "accelerator": "GPU",
    "colab": {
      "gpuType": "T4",
      "provenance": []
    },
    "kernelspec": {
      "display_name": "Python 3",
      "name": "python3"
    },
    "language_info": {
      "name": "python"
    }
  },
  "nbformat": 4,
  "nbformat_minor": 0
}